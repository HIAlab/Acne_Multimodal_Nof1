{
  "nbformat": 4,
  "nbformat_minor": 0,
  "metadata": {
    "colab": {
      "provenance": []
    },
    "kernelspec": {
      "name": "ir",
      "display_name": "R"
    },
    "language_info": {
      "name": "R"
    }
  },
  "cells": [
    {
      "cell_type": "code",
      "execution_count": 1,
      "metadata": {
        "id": "b7TjtXeFNCRc"
      },
      "outputs": [],
      "source": [
        "## Loading Data\n",
        "library(readr)\n",
        "df <- read.csv('/content/scores-scaled-combined.csv')\n",
        "df_lmm <- df\n",
        "df_lmm['InterventionBinary'] <- ifelse(df_lmm['Intervention..Boolean.'] == \"TRUE\", 1, 0)\n",
        "df_lmm['score_avg'] <- rowMeans(df_lmm[, c('scores_xuliang', 'scores_siqiao', 'scores_joslyn', 'scores_shuheng', 'scores_siqi')], na.rm = TRUE)"
      ]
    },
    {
      "cell_type": "markdown",
      "source": [
        "## LMM On Everyone's Manually Labeled Data"
      ],
      "metadata": {
        "id": "sw1mxIwk0rmf"
      }
    },
    {
      "cell_type": "code",
      "source": [
        "library(nlme)\n",
        "set.seed(22)\n",
        "treatment <- as.numeric(df_lmm$InterventionBinary)\n",
        "outcome <- as.numeric(df_lmm$score_avg)\n",
        "ID <- as.numeric(df_lmm$Id)"
      ],
      "metadata": {
        "id": "86IrXsytOLz3"
      },
      "execution_count": 2,
      "outputs": []
    },
    {
      "cell_type": "code",
      "source": [
        "# linear regression -> identical results\n",
        "fit1 <- lm(outcome ~ treatment)\n",
        "summary(fit1)"
      ],
      "metadata": {
        "colab": {
          "base_uri": "https://localhost:8080/",
          "height": 349
        },
        "id": "ov4wXvHwQRcw",
        "outputId": "64b7f321-8e3a-4e96-fe34-89f94baf435a"
      },
      "execution_count": null,
      "outputs": [
        {
          "output_type": "display_data",
          "data": {
            "text/plain": [
              "\n",
              "Call:\n",
              "lm(formula = outcome ~ treatment)\n",
              "\n",
              "Residuals:\n",
              "     Min       1Q   Median       3Q      Max \n",
              "-0.44888 -0.17397 -0.01852  0.16759  0.50422 \n",
              "\n",
              "Coefficients:\n",
              "            Estimate Std. Error t value Pr(>|t|)    \n",
              "(Intercept)  0.46317    0.01916   24.17   <2e-16 ***\n",
              "treatment   -0.04239    0.02904   -1.46    0.146    \n",
              "---\n",
              "Signif. codes:  0 ‘***’ 0.001 ‘**’ 0.01 ‘*’ 0.05 ‘.’ 0.1 ‘ ’ 1\n",
              "\n",
              "Residual standard error: 0.2299 on 253 degrees of freedom\n",
              "Multiple R-squared:  0.008351,\tAdjusted R-squared:  0.004431 \n",
              "F-statistic:  2.13 on 1 and 253 DF,  p-value: 0.1456\n"
            ]
          },
          "metadata": {}
        }
      ]
    },
    {
      "cell_type": "code",
      "source": [
        "# linear mixed model with random intercept -> identical results of treatment effect+test\n",
        "fit2 <- lme(outcome ~ treatment, random = ~ 1 | ID)\n",
        "summary(fit2)"
      ],
      "metadata": {
        "colab": {
          "base_uri": "https://localhost:8080/",
          "height": 460
        },
        "id": "vT_BTljLSN_W",
        "outputId": "57799486-8640-4d31-9d3b-51f30f797e09"
      },
      "execution_count": null,
      "outputs": [
        {
          "output_type": "display_data",
          "data": {
            "text/plain": [
              "Linear mixed-effects model fit by REML\n",
              "  Data: NULL \n",
              "        AIC        BIC   logLik\n",
              "  -14.83927 -0.7057147 11.41964\n",
              "\n",
              "Random effects:\n",
              " Formula: ~1 | ID\n",
              "        (Intercept)  Residual\n",
              "StdDev:  0.05631701 0.2243587\n",
              "\n",
              "Fixed effects:  outcome ~ treatment \n",
              "                 Value  Std.Error  DF   t-value p-value\n",
              "(Intercept)  0.4716717 0.03147815 249 14.984100  0.0000\n",
              "treatment   -0.0574849 0.02868296 249 -2.004147  0.0461\n",
              " Correlation: \n",
              "          (Intr)\n",
              "treatment -0.4  \n",
              "\n",
              "Standardized Within-Group Residuals:\n",
              "        Min          Q1         Med          Q3         Max \n",
              "-2.19000810 -0.75878786 -0.08145127  0.73662757  2.37057780 \n",
              "\n",
              "Number of Observations: 255\n",
              "Number of Groups: 5 "
            ]
          },
          "metadata": {}
        }
      ]
    },
    {
      "cell_type": "code",
      "source": [
        "# linear mixed model with autoregressive errors & AR1 correlation structure\n",
        "fit3 <- lme(outcome ~ treatment, random = ~ 1 | ID, correlation = corAR1( form = ~ 1 | ID))\n",
        "summary(fit3)"
      ],
      "metadata": {
        "colab": {
          "base_uri": "https://localhost:8080/",
          "height": 552
        },
        "id": "k9NU7dyvSOUs",
        "outputId": "ed6bd1c9-8d66-4a2a-ad36-4dcb4640727f"
      },
      "execution_count": null,
      "outputs": [
        {
          "output_type": "display_data",
          "data": {
            "text/plain": [
              "Linear mixed-effects model fit by REML\n",
              "  Data: NULL \n",
              "        AIC       BIC   logLik\n",
              "  -23.52415 -5.857202 16.76207\n",
              "\n",
              "Random effects:\n",
              " Formula: ~1 | ID\n",
              "        (Intercept)  Residual\n",
              "StdDev:  0.05177569 0.2257005\n",
              "\n",
              "Correlation Structure: AR(1)\n",
              " Formula: ~1 | ID \n",
              " Parameter estimate(s):\n",
              "      Phi \n",
              "0.2133957 \n",
              "Fixed effects:  outcome ~ treatment \n",
              "                 Value  Std.Error  DF   t-value p-value\n",
              "(Intercept)  0.4685936 0.03149007 249 14.880681  0.0000\n",
              "treatment   -0.0525203 0.02793245 249 -1.880263  0.0612\n",
              " Correlation: \n",
              "          (Intr)\n",
              "treatment -0.388\n",
              "\n",
              "Standardized Within-Group Residuals:\n",
              "        Min          Q1         Med          Q3         Max \n",
              "-2.14015379 -0.77251140 -0.07962029  0.73543864  2.31513531 \n",
              "\n",
              "Number of Observations: 255\n",
              "Number of Groups: 5 "
            ]
          },
          "metadata": {}
        }
      ]
    },
    {
      "cell_type": "code",
      "source": [
        "subject_df = subset(df_lmm, Id == 5)\n",
        "subject_treatment <- as.numeric(subject_df$InterventionBinary)\n",
        "subject_outcome <- as.numeric(subject_df$score_avg)\n",
        "subject_ID <- as.numeric(subject_df$Id)"
      ],
      "metadata": {
        "id": "EI_gInC8UCas"
      },
      "execution_count": 15,
      "outputs": []
    },
    {
      "cell_type": "markdown",
      "source": [
        "## LMM On Subject 2's Manually Labeled Data"
      ],
      "metadata": {
        "id": "2zDa5UOy08XS"
      }
    },
    {
      "cell_type": "code",
      "source": [
        "# linear regression -> identical results\n",
        "fit1 <- lm(subject_outcome ~ subject_treatment)\n",
        "summary(fit1)"
      ],
      "metadata": {
        "colab": {
          "base_uri": "https://localhost:8080/",
          "height": 349
        },
        "id": "j9sfQS3eUybs",
        "outputId": "ca5f4905-846d-41be-e054-d33f1d17607e"
      },
      "execution_count": null,
      "outputs": [
        {
          "output_type": "display_data",
          "data": {
            "text/plain": [
              "\n",
              "Call:\n",
              "lm(formula = subject_outcome ~ subject_treatment)\n",
              "\n",
              "Residuals:\n",
              "     Min       1Q   Median       3Q      Max \n",
              "-0.51092 -0.21518 -0.00687  0.19846  0.41254 \n",
              "\n",
              "Coefficients:\n",
              "                  Estimate Std. Error t value Pr(>|t|)    \n",
              "(Intercept)        0.42532    0.05161   8.241 1.31e-10 ***\n",
              "subject_treatment  0.12561    0.07299   1.721    0.092 .  \n",
              "---\n",
              "Signif. codes:  0 ‘***’ 0.001 ‘**’ 0.01 ‘*’ 0.05 ‘.’ 0.1 ‘ ’ 1\n",
              "\n",
              "Residual standard error: 0.2528 on 46 degrees of freedom\n",
              "Multiple R-squared:  0.06049,\tAdjusted R-squared:  0.04007 \n",
              "F-statistic: 2.962 on 1 and 46 DF,  p-value: 0.09198\n"
            ]
          },
          "metadata": {}
        }
      ]
    },
    {
      "cell_type": "code",
      "source": [
        "# linear mixed model with random intercept -> identical results of treatment effect+test\n",
        "fit2 <- lme(subject_outcome ~ subject_treatment, random = ~ 1 | subject_ID)\n",
        "summary(fit2)"
      ],
      "metadata": {
        "colab": {
          "base_uri": "https://localhost:8080/",
          "height": 460
        },
        "id": "21y9VropU0aN",
        "outputId": "ac5c62de-10cf-4820-9dfd-07219c943c0f"
      },
      "execution_count": null,
      "outputs": [
        {
          "output_type": "display_data",
          "data": {
            "text/plain": [
              "Linear mixed-effects model fit by REML\n",
              "  Data: NULL \n",
              "      AIC      BIC    logLik\n",
              "  18.3951 25.70966 -5.197549\n",
              "\n",
              "Random effects:\n",
              " Formula: ~1 | subject_ID\n",
              "        (Intercept)  Residual\n",
              "StdDev:  0.09731446 0.2528304\n",
              "\n",
              "Fixed effects:  subject_outcome ~ subject_treatment \n",
              "                      Value  Std.Error DF  t-value p-value\n",
              "(Intercept)       0.4253175 0.11015249 46 3.861170  0.0004\n",
              "subject_treatment 0.1256052 0.07298584 46 1.720952  0.0920\n",
              " Correlation: \n",
              "                  (Intr)\n",
              "subject_treatment -0.331\n",
              "\n",
              "Standardized Within-Group Residuals:\n",
              "        Min          Q1         Med          Q3         Max \n",
              "-2.02081186 -0.85106899 -0.02715291  0.78495245  1.63168561 \n",
              "\n",
              "Number of Observations: 48\n",
              "Number of Groups: 1 "
            ]
          },
          "metadata": {}
        }
      ]
    },
    {
      "cell_type": "code",
      "source": [
        "# linear mixed model with autoregressive errors & AR1 correlation structure\n",
        "fit3 <- lme(subject_outcome ~ subject_treatment, random = ~ 1 | subject_ID, correlation = corAR1( form = ~ 1 | subject_ID))\n",
        "summary(fit3)"
      ],
      "metadata": {
        "colab": {
          "base_uri": "https://localhost:8080/",
          "height": 546
        },
        "id": "Kl3YjqMWU2zn",
        "outputId": "3dce6fd4-5c9e-4234-efc9-95d7077d72c1"
      },
      "execution_count": 16,
      "outputs": [
        {
          "output_type": "display_data",
          "data": {
            "text/plain": [
              "Linear mixed-effects model fit by REML\n",
              "  Data: NULL \n",
              "        AIC       BIC   logLik\n",
              "  -12.71729 -3.574087 11.35865\n",
              "\n",
              "Random effects:\n",
              " Formula: ~1 | subject_ID\n",
              "        (Intercept)  Residual\n",
              "StdDev:  0.08191621 0.2128244\n",
              "\n",
              "Correlation Structure: AR(1)\n",
              " Formula: ~1 | subject_ID \n",
              " Parameter estimate(s):\n",
              "     Phi \n",
              "0.546529 \n",
              "Fixed effects:  subject_outcome ~ subject_treatment \n",
              "                       Value  Std.Error DF   t-value p-value\n",
              "(Intercept)        0.4992986 0.10148072 46  4.920133    0.00\n",
              "subject_treatment -0.0165104 0.04577213 46 -0.360709    0.72\n",
              " Correlation: \n",
              "                  (Intr)\n",
              "subject_treatment -0.226\n",
              "\n",
              "Standardized Within-Group Residuals:\n",
              "       Min         Q1        Med         Q3        Max \n",
              "-1.8822119 -0.6132594  0.1237753  0.7552066  1.7851905 \n",
              "\n",
              "Number of Observations: 48\n",
              "Number of Groups: 1 "
            ]
          },
          "metadata": {}
        }
      ]
    },
    {
      "cell_type": "code",
      "source": [
        "library(readr)\n",
        "df <- read.csv('/content/siqi_cnn_inf.csv')\n",
        "df_cnn <- df\n",
        "df_cnn['InterventionBinary'] <- ifelse(df_cnn['Intervention..Boolean.'] == \"TRUE\", 1, 0)"
      ],
      "metadata": {
        "id": "PZfxvEIG0gDk"
      },
      "execution_count": 31,
      "outputs": []
    },
    {
      "cell_type": "markdown",
      "source": [
        "## LMM On Every Subject's CNN Prediction"
      ],
      "metadata": {
        "id": "7wc8g00b1A5V"
      }
    },
    {
      "cell_type": "code",
      "source": [
        "library(nlme)\n",
        "set.seed(22)\n",
        "cnn_treatment <- as.numeric(df_cnn$InterventionBinary)\n",
        "cnn_outcome <- as.numeric(df_cnn$scores_resnet50)\n",
        "cnn_ID <- as.numeric(df_cnn$Id)"
      ],
      "metadata": {
        "id": "HnGDzKWh01Nm"
      },
      "execution_count": 32,
      "outputs": []
    },
    {
      "cell_type": "code",
      "source": [
        "# linear regression -> identical results\n",
        "cnn_fit1 <- lm(cnn_outcome ~ cnn_treatment)\n",
        "summary(cnn_fit1)"
      ],
      "metadata": {
        "colab": {
          "base_uri": "https://localhost:8080/",
          "height": 349
        },
        "id": "pwIj-QX-65WL",
        "outputId": "657ba3e8-1a6e-4c31-ac69-06c76fa53053"
      },
      "execution_count": null,
      "outputs": [
        {
          "output_type": "display_data",
          "data": {
            "text/plain": [
              "\n",
              "Call:\n",
              "lm(formula = cnn_outcome ~ cnn_treatment)\n",
              "\n",
              "Residuals:\n",
              "     Min       1Q   Median       3Q      Max \n",
              "-0.76006 -0.20527  0.08227  0.08834  0.36130 \n",
              "\n",
              "Coefficients:\n",
              "              Estimate Std. Error t value Pr(>|t|)    \n",
              "(Intercept)    0.91166    0.05666  16.090  < 2e-16 ***\n",
              "cnn_treatment -0.27296    0.08013  -3.407  0.00138 ** \n",
              "---\n",
              "Signif. codes:  0 ‘***’ 0.001 ‘**’ 0.01 ‘*’ 0.05 ‘.’ 0.1 ‘ ’ 1\n",
              "\n",
              "Residual standard error: 0.2776 on 46 degrees of freedom\n",
              "Multiple R-squared:  0.2014,\tAdjusted R-squared:  0.1841 \n",
              "F-statistic:  11.6 on 1 and 46 DF,  p-value: 0.001376\n"
            ]
          },
          "metadata": {}
        }
      ]
    },
    {
      "cell_type": "code",
      "source": [
        "# linear mixed model with random intercept -> identical results of treatment effect+test\n",
        "cnn_fit2 <- lme(cnn_outcome ~ cnn_treatment, random = ~ 1 | cnn_ID)\n",
        "summary(cnn_fit2)"
      ],
      "metadata": {
        "colab": {
          "base_uri": "https://localhost:8080/",
          "height": 460
        },
        "id": "q4uFNbT76tVV",
        "outputId": "0fed9fe0-57c7-4d25-ad9b-8acc3b87a684"
      },
      "execution_count": null,
      "outputs": [
        {
          "output_type": "display_data",
          "data": {
            "text/plain": [
              "Linear mixed-effects model fit by REML\n",
              "  Data: NULL \n",
              "       AIC      BIC    logLik\n",
              "  26.98551 34.30008 -9.492755\n",
              "\n",
              "Random effects:\n",
              " Formula: ~1 | cnn_ID\n",
              "        (Intercept)  Residual\n",
              "StdDev:   0.1068388 0.2775755\n",
              "\n",
              "Fixed effects:  cnn_outcome ~ cnn_treatment \n",
              "                   Value  Std.Error DF   t-value p-value\n",
              "(Intercept)    0.9116619 0.12093336 46  7.538547  0.0000\n",
              "cnn_treatment -0.2729602 0.08012914 46 -3.406504  0.0014\n",
              " Correlation: \n",
              "              (Intr)\n",
              "cnn_treatment -0.331\n",
              "\n",
              "Standardized Within-Group Residuals:\n",
              "       Min         Q1        Med         Q3        Max \n",
              "-2.7382039 -0.7395226  0.2963754  0.3182491  1.3016212 \n",
              "\n",
              "Number of Observations: 48\n",
              "Number of Groups: 1 "
            ]
          },
          "metadata": {}
        }
      ]
    },
    {
      "cell_type": "code",
      "source": [
        "# linear mixed model with autoregressive errors & AR1 correlation structure\n",
        "cnn_fit3 <- lme(cnn_outcome ~ cnn_treatment, random = ~ 1 | cnn_ID, correlation = corAR1( form = ~ 1 | cnn_ID))\n",
        "summary(cnn_fit3)"
      ],
      "metadata": {
        "colab": {
          "base_uri": "https://localhost:8080/",
          "height": 546
        },
        "id": "2SdpkBPt1N3F",
        "outputId": "393ead87-9e36-48c5-d783-8ff72c4f3cfd"
      },
      "execution_count": 33,
      "outputs": [
        {
          "output_type": "display_data",
          "data": {
            "text/plain": [
              "Linear mixed-effects model fit by REML\n",
              "  Data: NULL \n",
              "       AIC      BIC    logLik\n",
              "  34.38701 43.53022 -12.19351\n",
              "\n",
              "Random effects:\n",
              " Formula: ~1 | cnn_ID\n",
              "        (Intercept)  Residual\n",
              "StdDev:   0.1132604 0.2942591\n",
              "\n",
              "Correlation Structure: AR(1)\n",
              " Formula: ~1 | cnn_ID \n",
              " Parameter estimate(s):\n",
              "        Phi \n",
              "-0.01212719 \n",
              "Fixed effects:  cnn_outcome ~ cnn_treatment \n",
              "                  Value  Std.Error DF  t-value p-value\n",
              "(Intercept)   0.7769076 0.12793303 46 6.072768  0.0000\n",
              "cnn_treatment 0.0255199 0.08431759 46 0.302664  0.7635\n",
              " Correlation: \n",
              "              (Intr)\n",
              "cnn_treatment -0.33 \n",
              "\n",
              "Standardized Within-Group Residuals:\n",
              "       Min         Q1        Med         Q3        Max \n",
              "-2.5717607 -0.6313398  0.5981586  0.7064347  0.7581497 \n",
              "\n",
              "Number of Observations: 48\n",
              "Number of Groups: 1 "
            ]
          },
          "metadata": {}
        }
      ]
    }
  ]
}