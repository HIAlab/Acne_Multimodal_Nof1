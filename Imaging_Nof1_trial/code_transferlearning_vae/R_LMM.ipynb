{
  "nbformat": 4,
  "nbformat_minor": 0,
  "metadata": {
    "colab": {
      "provenance": []
    },
    "kernelspec": {
      "name": "ir",
      "display_name": "R"
    },
    "language_info": {
      "name": "R"
    }
  },
  "cells": [
    {
      "cell_type": "code",
      "execution_count": null,
      "metadata": {
        "id": "b7TjtXeFNCRc"
      },
      "outputs": [],
      "source": [
        "## Loading Data\n",
        "library(readr)\n",
        "df <- read.csv('/content/scores-scaled-combined.csv')\n",
        "df_lmm <- df\n",
        "df_lmm['InterventionBinary'] <- ifelse(df_lmm['Intervention..Boolean.'] == \"TRUE\", 1, 0)\n",
        "df_lmm['score_avg'] <- rowMeans(df_lmm[, c('scores_xuliang', 'scores_siqiao', 'scores_joslyn', 'scores_shuheng', 'scores_siqi')], na.rm = TRUE)"
      ]
    },
    {
      "cell_type": "markdown",
      "source": [
        "## LMM On Everyone's Manually Labeled Data"
      ],
      "metadata": {
        "id": "sw1mxIwk0rmf"
      }
    },
    {
      "cell_type": "code",
      "source": [
        "library(nlme)\n",
        "set.seed(22)\n",
        "treatment <- as.numeric(df_lmm$InterventionBinary)\n",
        "outcome <- as.numeric(df_lmm$score_avg)\n",
        "ID <- as.numeric(df_lmm$Id)"
      ],
      "metadata": {
        "id": "86IrXsytOLz3"
      },
      "execution_count": null,
      "outputs": []
    },
    {
      "cell_type": "code",
      "source": [
        "# linear regression -> identical results\n",
        "fit1 <- lm(outcome ~ treatment)\n",
        "summary(fit1)"
      ],
      "metadata": {
        "colab": {
          "base_uri": "https://localhost:8080/",
          "height": 329
        },
        "id": "ov4wXvHwQRcw",
        "outputId": "31f5ef1e-4bb8-4fee-cb2e-5b0e460c9fc5"
      },
      "execution_count": null,
      "outputs": [
        {
          "output_type": "display_data",
          "data": {
            "text/plain": [
              "\n",
              "Call:\n",
              "lm(formula = outcome ~ treatment)\n",
              "\n",
              "Residuals:\n",
              "     Min       1Q   Median       3Q      Max \n",
              "-0.44888 -0.17397 -0.01852  0.16759  0.50422 \n",
              "\n",
              "Coefficients:\n",
              "            Estimate Std. Error t value Pr(>|t|)    \n",
              "(Intercept)  0.46317    0.01916   24.17   <2e-16 ***\n",
              "treatment   -0.04239    0.02904   -1.46    0.146    \n",
              "---\n",
              "Signif. codes:  0 ‘***’ 0.001 ‘**’ 0.01 ‘*’ 0.05 ‘.’ 0.1 ‘ ’ 1\n",
              "\n",
              "Residual standard error: 0.2299 on 253 degrees of freedom\n",
              "Multiple R-squared:  0.008351,\tAdjusted R-squared:  0.004431 \n",
              "F-statistic:  2.13 on 1 and 253 DF,  p-value: 0.1456\n"
            ]
          },
          "metadata": {}
        }
      ]
    },
    {
      "cell_type": "code",
      "source": [
        "# linear mixed model with random intercept -> identical results of treatment effect+test\n",
        "fit2 <- lme(outcome ~ treatment, random = ~ 1 | ID)\n",
        "summary(fit2)"
      ],
      "metadata": {
        "colab": {
          "base_uri": "https://localhost:8080/",
          "height": 434
        },
        "id": "vT_BTljLSN_W",
        "outputId": "a6ec48d6-dd7d-4eca-9b7d-dee7b25fdb9d"
      },
      "execution_count": null,
      "outputs": [
        {
          "output_type": "display_data",
          "data": {
            "text/plain": [
              "Linear mixed-effects model fit by REML\n",
              "  Data: NULL \n",
              "        AIC        BIC   logLik\n",
              "  -14.83927 -0.7057147 11.41964\n",
              "\n",
              "Random effects:\n",
              " Formula: ~1 | ID\n",
              "        (Intercept)  Residual\n",
              "StdDev:  0.05631701 0.2243587\n",
              "\n",
              "Fixed effects:  outcome ~ treatment \n",
              "                 Value  Std.Error  DF   t-value p-value\n",
              "(Intercept)  0.4716717 0.03147815 249 14.984100  0.0000\n",
              "treatment   -0.0574849 0.02868296 249 -2.004147  0.0461\n",
              " Correlation: \n",
              "          (Intr)\n",
              "treatment -0.4  \n",
              "\n",
              "Standardized Within-Group Residuals:\n",
              "        Min          Q1         Med          Q3         Max \n",
              "-2.19000810 -0.75878786 -0.08145127  0.73662757  2.37057780 \n",
              "\n",
              "Number of Observations: 255\n",
              "Number of Groups: 5 "
            ]
          },
          "metadata": {}
        }
      ]
    },
    {
      "cell_type": "code",
      "source": [
        "# linear mixed model with autoregressive errors & AR1 correlation structure\n",
        "fit3 <- lme(outcome ~ treatment, random = ~ 1 | ID, correlation = corAR1( form = ~ 1 | ID))\n",
        "summary(fit3)"
      ],
      "metadata": {
        "colab": {
          "base_uri": "https://localhost:8080/",
          "height": 520
        },
        "id": "k9NU7dyvSOUs",
        "outputId": "068d24c6-ad63-4a92-e478-0ea10c95e839"
      },
      "execution_count": null,
      "outputs": [
        {
          "output_type": "display_data",
          "data": {
            "text/plain": [
              "Linear mixed-effects model fit by REML\n",
              "  Data: NULL \n",
              "        AIC       BIC   logLik\n",
              "  -23.52415 -5.857202 16.76207\n",
              "\n",
              "Random effects:\n",
              " Formula: ~1 | ID\n",
              "        (Intercept)  Residual\n",
              "StdDev:  0.05177569 0.2257005\n",
              "\n",
              "Correlation Structure: AR(1)\n",
              " Formula: ~1 | ID \n",
              " Parameter estimate(s):\n",
              "      Phi \n",
              "0.2133957 \n",
              "Fixed effects:  outcome ~ treatment \n",
              "                 Value  Std.Error  DF   t-value p-value\n",
              "(Intercept)  0.4685936 0.03149007 249 14.880681  0.0000\n",
              "treatment   -0.0525203 0.02793245 249 -1.880263  0.0612\n",
              " Correlation: \n",
              "          (Intr)\n",
              "treatment -0.388\n",
              "\n",
              "Standardized Within-Group Residuals:\n",
              "        Min          Q1         Med          Q3         Max \n",
              "-2.14015379 -0.77251140 -0.07962029  0.73543864  2.31513531 \n",
              "\n",
              "Number of Observations: 255\n",
              "Number of Groups: 5 "
            ]
          },
          "metadata": {}
        }
      ]
    },
    {
      "cell_type": "markdown",
      "source": [
        "## LMM On Subject 2's Manually Labeled Data"
      ],
      "metadata": {
        "id": "2zDa5UOy08XS"
      }
    },
    {
      "cell_type": "code",
      "source": [
        "subject_df = subset(df_lmm, Id == 2)\n",
        "subject_treatment <- as.numeric(subject_df$InterventionBinary)\n",
        "subject_outcome <- as.numeric(subject_df$score_avg)\n",
        "subject_ID <- as.numeric(subject_df$Id)"
      ],
      "metadata": {
        "id": "EI_gInC8UCas"
      },
      "execution_count": null,
      "outputs": []
    },
    {
      "cell_type": "code",
      "source": [
        "# linear regression -> identical results\n",
        "fit1 <- lm(subject_outcome ~ subject_treatment)\n",
        "summary(fit1)"
      ],
      "metadata": {
        "colab": {
          "base_uri": "https://localhost:8080/",
          "height": 329
        },
        "id": "j9sfQS3eUybs",
        "outputId": "50121edc-b814-4d2f-b182-c988d0bb914a"
      },
      "execution_count": null,
      "outputs": [
        {
          "output_type": "display_data",
          "data": {
            "text/plain": [
              "\n",
              "Call:\n",
              "lm(formula = subject_outcome ~ subject_treatment)\n",
              "\n",
              "Residuals:\n",
              "     Min       1Q   Median       3Q      Max \n",
              "-0.34517 -0.12512 -0.04634  0.14094  0.42824 \n",
              "\n",
              "Coefficients:\n",
              "                  Estimate Std. Error t value Pr(>|t|)    \n",
              "(Intercept)        0.53843    0.03610  14.913  < 2e-16 ***\n",
              "subject_treatment -0.17839    0.05106  -3.494  0.00106 ** \n",
              "---\n",
              "Signif. codes:  0 ‘***’ 0.001 ‘**’ 0.01 ‘*’ 0.05 ‘.’ 0.1 ‘ ’ 1\n",
              "\n",
              "Residual standard error: 0.1769 on 46 degrees of freedom\n",
              "Multiple R-squared:  0.2097,\tAdjusted R-squared:  0.1925 \n",
              "F-statistic: 12.21 on 1 and 46 DF,  p-value: 0.001065\n"
            ]
          },
          "metadata": {}
        }
      ]
    },
    {
      "cell_type": "code",
      "source": [
        "# linear mixed model with random intercept -> identical results of treatment effect+test\n",
        "fit2 <- lme(subject_outcome ~ subject_treatment, random = ~ 1 | subject_ID)\n",
        "summary(fit2)"
      ],
      "metadata": {
        "colab": {
          "base_uri": "https://localhost:8080/",
          "height": 434
        },
        "id": "21y9VropU0aN",
        "outputId": "eb6a97f9-70d1-45f4-fffd-9c72b4c48534"
      },
      "execution_count": null,
      "outputs": [
        {
          "output_type": "display_data",
          "data": {
            "text/plain": [
              "Linear mixed-effects model fit by REML\n",
              "  Data: NULL \n",
              "        AIC       BIC   logLik\n",
              "  -14.47577 -7.161204 11.23788\n",
              "\n",
              "Random effects:\n",
              " Formula: ~1 | subject_ID\n",
              "        (Intercept)  Residual\n",
              "StdDev:   0.0680781 0.1768721\n",
              "\n",
              "Fixed effects:  subject_outcome ~ subject_treatment \n",
              "                       Value  Std.Error DF   t-value p-value\n",
              "(Intercept)        0.5384285 0.07705917 46  6.987209  0.0000\n",
              "subject_treatment -0.1783868 0.05105857 46 -3.493767  0.0011\n",
              " Correlation: \n",
              "                  (Intr)\n",
              "subject_treatment -0.331\n",
              "\n",
              "Standardized Within-Group Residuals:\n",
              "       Min         Q1        Med         Q3        Max \n",
              "-1.9514957 -0.7073954 -0.2620101  0.7968316  2.4211743 \n",
              "\n",
              "Number of Observations: 48\n",
              "Number of Groups: 1 "
            ]
          },
          "metadata": {}
        }
      ]
    },
    {
      "cell_type": "code",
      "source": [
        "# linear mixed model with autoregressive errors & AR1 correlation structure\n",
        "fit3 <- lme(subject_outcome ~ subject_treatment, random = ~ 1 | subject_ID, correlation = corAR1( form = ~ 1 | subject_ID))\n",
        "summary(fit3)"
      ],
      "metadata": {
        "colab": {
          "base_uri": "https://localhost:8080/",
          "height": 520
        },
        "id": "Kl3YjqMWU2zn",
        "outputId": "1f50225f-07a0-4baa-ef0a-2a65a998f6a8"
      },
      "execution_count": null,
      "outputs": [
        {
          "output_type": "display_data",
          "data": {
            "text/plain": [
              "Linear mixed-effects model fit by REML\n",
              "  Data: NULL \n",
              "        AIC       BIC   logLik\n",
              "  -12.84169 -3.698486 11.42085\n",
              "\n",
              "Random effects:\n",
              " Formula: ~1 | subject_ID\n",
              "        (Intercept)  Residual\n",
              "StdDev:  0.06796543 0.1765794\n",
              "\n",
              "Correlation Structure: AR(1)\n",
              " Formula: ~1 | subject_ID \n",
              " Parameter estimate(s):\n",
              "        Phi \n",
              "-0.09439186 \n",
              "Fixed effects:  subject_outcome ~ subject_treatment \n",
              "                       Value  Std.Error DF   t-value p-value\n",
              "(Intercept)        0.5382616 0.07612256 46  7.070987   0e+00\n",
              "subject_treatment -0.1793420 0.05043297 46 -3.556046   9e-04\n",
              " Correlation: \n",
              "                  (Intr)\n",
              "subject_treatment -0.331\n",
              "\n",
              "Standardized Within-Group Residuals:\n",
              "       Min         Q1        Med         Q3        Max \n",
              "-1.9537853 -0.7070362 -0.2614991  0.8045073  2.4261331 \n",
              "\n",
              "Number of Observations: 48\n",
              "Number of Groups: 1 "
            ]
          },
          "metadata": {}
        }
      ]
    },
    {
      "cell_type": "markdown",
      "source": [
        "## LMM On Every Subject's CNN Prediction"
      ],
      "metadata": {
        "id": "7wc8g00b1A5V"
      }
    },
    {
      "cell_type": "code",
      "source": [
        "library(readr)\n",
        "df <- read.csv('/content/transfer_siqiao_acne04_cnn_inf.csv') # '/content/transfer_siqiao_cnn_inf.csv'\n",
        "df_cnn <- df\n",
        "df_cnn['InterventionBinary'] <- ifelse(df_cnn['Intervention..Boolean.'] == \"TRUE\", 1, 0)"
      ],
      "metadata": {
        "id": "PZfxvEIG0gDk"
      },
      "execution_count": null,
      "outputs": []
    },
    {
      "cell_type": "code",
      "source": [
        "library(nlme)\n",
        "set.seed(22)\n",
        "cnn_treatment <- as.numeric(df_cnn$InterventionBinary)\n",
        "cnn_outcome <- as.numeric(df_cnn$scores_resnet50)\n",
        "cnn_ID <- as.numeric(df_cnn$Id)"
      ],
      "metadata": {
        "id": "HnGDzKWh01Nm"
      },
      "execution_count": null,
      "outputs": []
    },
    {
      "cell_type": "code",
      "source": [
        "# linear regression -> identical results\n",
        "cnn_fit1 <- lm(cnn_outcome ~ cnn_treatment)\n",
        "summary(cnn_fit1)"
      ],
      "metadata": {
        "colab": {
          "base_uri": "https://localhost:8080/",
          "height": 329
        },
        "id": "pwIj-QX-65WL",
        "outputId": "810e016e-48bb-4f6f-fb3b-533c31273400"
      },
      "execution_count": null,
      "outputs": [
        {
          "output_type": "display_data",
          "data": {
            "text/plain": [
              "\n",
              "Call:\n",
              "lm(formula = cnn_outcome ~ cnn_treatment)\n",
              "\n",
              "Residuals:\n",
              "     Min       1Q   Median       3Q      Max \n",
              "-0.60581 -0.38798  0.07742  0.31953  0.41618 \n",
              "\n",
              "Coefficients:\n",
              "              Estimate Std. Error t value Pr(>|t|)    \n",
              "(Intercept)    0.60927    0.07464   8.163  1.7e-10 ***\n",
              "cnn_treatment -0.02551    0.10556  -0.242     0.81    \n",
              "---\n",
              "Signif. codes:  0 ‘***’ 0.001 ‘**’ 0.01 ‘*’ 0.05 ‘.’ 0.1 ‘ ’ 1\n",
              "\n",
              "Residual standard error: 0.3657 on 46 degrees of freedom\n",
              "Multiple R-squared:  0.001268,\tAdjusted R-squared:  -0.02044 \n",
              "F-statistic: 0.0584 on 1 and 46 DF,  p-value: 0.8101\n"
            ]
          },
          "metadata": {}
        }
      ]
    },
    {
      "cell_type": "code",
      "source": [
        "# linear mixed model with random intercept -> identical results of treatment effect+test\n",
        "cnn_fit2 <- lme(cnn_outcome ~ cnn_treatment, random = ~ 1 | cnn_ID)\n",
        "summary(cnn_fit2)"
      ],
      "metadata": {
        "colab": {
          "base_uri": "https://localhost:8080/",
          "height": 434
        },
        "id": "q4uFNbT76tVV",
        "outputId": "cbe24f93-fa34-40e1-c65d-7d7e493ed261"
      },
      "execution_count": null,
      "outputs": [
        {
          "output_type": "display_data",
          "data": {
            "text/plain": [
              "Linear mixed-effects model fit by REML\n",
              "  Data: NULL \n",
              "       AIC      BIC    logLik\n",
              "  52.34248 59.65704 -22.17124\n",
              "\n",
              "Random effects:\n",
              " Formula: ~1 | cnn_ID\n",
              "        (Intercept) Residual\n",
              "StdDev:   0.1407437 0.365663\n",
              "\n",
              "Fixed effects:  cnn_outcome ~ cnn_treatment \n",
              "                   Value Std.Error DF   t-value p-value\n",
              "(Intercept)    0.6092667 0.1593111 46  3.824383  0.0004\n",
              "cnn_treatment -0.0255095 0.1055578 46 -0.241664  0.8101\n",
              " Correlation: \n",
              "              (Intr)\n",
              "cnn_treatment -0.331\n",
              "\n",
              "Standardized Within-Group Residuals:\n",
              "       Min         Q1        Med         Q3        Max \n",
              "-1.6567357 -1.0610379  0.2117123  0.8738359  1.1381646 \n",
              "\n",
              "Number of Observations: 48\n",
              "Number of Groups: 1 "
            ]
          },
          "metadata": {}
        }
      ]
    },
    {
      "cell_type": "code",
      "source": [
        "# linear mixed model with autoregressive errors & AR1 correlation structure\n",
        "cnn_fit3 <- lme(cnn_outcome ~ cnn_treatment, random = ~ 1 | cnn_ID, correlation = corAR1( form = ~ 1 | cnn_ID))\n",
        "summary(cnn_fit3)"
      ],
      "metadata": {
        "colab": {
          "base_uri": "https://localhost:8080/",
          "height": 520
        },
        "id": "2SdpkBPt1N3F",
        "outputId": "442fbba4-ee78-4c1a-fd09-5bcdc344aaf9"
      },
      "execution_count": null,
      "outputs": [
        {
          "output_type": "display_data",
          "data": {
            "text/plain": [
              "Linear mixed-effects model fit by REML\n",
              "  Data: NULL \n",
              "       AIC      BIC    logLik\n",
              "  53.94992 63.09312 -21.97496\n",
              "\n",
              "Random effects:\n",
              " Formula: ~1 | cnn_ID\n",
              "        (Intercept)  Residual\n",
              "StdDev:   0.1402975 0.3645037\n",
              "\n",
              "Correlation Structure: AR(1)\n",
              " Formula: ~1 | cnn_ID \n",
              " Parameter estimate(s):\n",
              "        Phi \n",
              "-0.09513706 \n",
              "Fixed effects:  cnn_outcome ~ cnn_treatment \n",
              "                   Value  Std.Error DF   t-value p-value\n",
              "(Intercept)    0.6093883 0.15615987 46  3.902336  0.0003\n",
              "cnn_treatment -0.0244550 0.09812558 46 -0.249221  0.8043\n",
              " Correlation: \n",
              "              (Intr)\n",
              "cnn_treatment -0.314\n",
              "\n",
              "Standardized Within-Group Residuals:\n",
              "       Min         Q1        Med         Q3        Max \n",
              "-1.6623381 -1.0647459  0.2091589  0.8762813  1.1385576 \n",
              "\n",
              "Number of Observations: 48\n",
              "Number of Groups: 1 "
            ]
          },
          "metadata": {}
        }
      ]
    },
    {
      "cell_type": "code",
      "source": [],
      "metadata": {
        "id": "jiveU_F8RWs0"
      },
      "execution_count": null,
      "outputs": []
    }
  ]
}